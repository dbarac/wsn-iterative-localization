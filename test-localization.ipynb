{
 "cells": [
  {
   "cell_type": "code",
   "execution_count": null,
   "metadata": {},
   "outputs": [],
   "source": [
    "%load_ext autoreload\n",
    "%autoreload 2\n",
    "\n",
    "%matplotlib inline"
   ]
  },
  {
   "cell_type": "code",
   "execution_count": null,
   "metadata": {},
   "outputs": [],
   "source": [
    "from pymote import Node\n",
    "from pymote import Network\n",
    "\n",
    "# Reseting numbering\n",
    "Node.cid = 1\n",
    "\n",
    "# Creating network\n",
    "net = Network()\n",
    "\"\"\"\n",
    "# Adding nodes\n",
    "n1 = net.add_node(pos=(100, 300), commRange=0)\n",
    "n2 = net.add_node(pos=(200, 200), commRange=0)\n",
    "n3 = net.add_node(pos=(200, 400), commRange=0)\n",
    "n4 = net.add_node(pos=(400, 200), commRange=0)\n",
    "n5 = net.add_node(pos=(400, 400), commRange=0)\n",
    "n6 = net.add_node(pos=(500, 300), commRange=0)\n",
    "n7 = net.add_node(pos=(550, 450), commRange=0)\n",
    "\n",
    "# Adding weighted edges\n",
    "net.add_weighted_edges_from([\n",
    "    (n1, n2, 10),\n",
    "    (n1, n3, 1),\n",
    "    (n2, n4, 2),\n",
    "    (n3, n5, 3),\n",
    "    (n1, n6, 5),\n",
    "    (n4, n6, 8),\n",
    "    (n5, n6, 3),\n",
    "    (n5, n7, 5),\n",
    "    (n6, n7, 3)\n",
    "])\n",
    "\"\"\"\n",
    "\n",
    "n1 = net.add_node(pos=(100, 300), commRange=0)\n",
    "n2 = net.add_node(pos=(200, 300), commRange=0)\n",
    "n3 = net.add_node(pos=(150, 400), commRange=0)\n",
    "\n",
    "net.add_edges_from([\n",
    "    (n1, n2),\n",
    "    (n1, n3),\n",
    "    (n2, n3),\n",
    "])\n",
    "net.show()"
   ]
  },
  {
   "cell_type": "code",
   "execution_count": null,
   "metadata": {},
   "outputs": [],
   "source": [
    "# setup sensors\n",
    "import scipy.stats\n",
    "from pymote.sensor import DistSensor\n",
    "\n",
    "trueDistSensor = DistSensor({'pf': scipy.stats.norm, 'scale': 0 }) # no measurement noise\n",
    "for n in net.nodes():\n",
    "    n.compositeSensor = ('NeighborsSensor', trueDistSensor)"
   ]
  },
  {
   "cell_type": "code",
   "execution_count": null,
   "metadata": {},
   "outputs": [],
   "source": [
    "from pymote import NetworkGenerator\n",
    "from pymote import write_pickle\n",
    "from pymote import Simulation\n",
    "from pymote.algorithms.localization import IterativeLocalization\n",
    "\n",
    "net.algorithms = (IterativeLocalization, )\n",
    "\n",
    "write_pickle(net, \"test-net.npc.gz\")\n",
    "\n",
    "sim = Simulation(net)\n",
    "sim.run()\n",
    "\n",
    "for n in net.nodes():\n",
    "    print(n.id, n.status)"
   ]
  },
  {
   "cell_type": "code",
   "execution_count": null,
   "metadata": {},
   "outputs": [],
   "source": [
    "print(\"Edges:\")\n",
    "for e in net.edges(data=True):\n",
    "    print(e)\n",
    "    \n",
    "print(\"Nodes:\")\n",
    "for n in net.nodes():\n",
    "    print(\"dists:\", n.memory['neighborDistances'])\n",
    "    print(n.id, n.memory['position'])"
   ]
  },
  {
   "cell_type": "code",
   "execution_count": null,
   "metadata": {
    "scrolled": false
   },
   "outputs": [],
   "source": [
    "# show localized network\n",
    "import numpy as np\n",
    "\n",
    "#print({n: n.memory['position'] for n in net.nodes()})\n",
    "#net.show(positions={n: np.array(n.memory['position']) for n in net.nodes()})\n",
    "\n",
    "for node in net.nodes():\n",
    "    print(\"mem dists:\", node.memory['neighborDistances'])\n",
    "    \n",
    "positions = [np.array(n.memory['position']) for n in net.nodes()]\n",
    "pairs = [\n",
    "    (positions[0], positions[1]),\n",
    "    (positions[1], positions[2]), \n",
    "    (positions[0], positions[2]), \n",
    "]\n",
    "for (i,j) in pairs:\n",
    "    print(\"localized dist:\", np.sqrt(np.sum((i - j) ** 2)))\n",
    "net.show()\n",
    "net.pos = {n: np.array(n.memory['position']) for n in net.nodes()}\n",
    "net.show()"
   ]
  },
  {
   "cell_type": "code",
   "execution_count": null,
   "metadata": {},
   "outputs": [],
   "source": []
  }
 ],
 "metadata": {
  "kernelspec": {
   "display_name": "Python 2",
   "language": "python",
   "name": "python2"
  },
  "language_info": {
   "codemirror_mode": {
    "name": "ipython",
    "version": 2
   },
   "file_extension": ".py",
   "mimetype": "text/x-python",
   "name": "python",
   "nbconvert_exporter": "python",
   "pygments_lexer": "ipython2",
   "version": "2.7.17"
  }
 },
 "nbformat": 4,
 "nbformat_minor": 2
}
